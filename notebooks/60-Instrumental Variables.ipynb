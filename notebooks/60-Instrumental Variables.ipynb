{
 "cells": [
  {
   "cell_type": "markdown",
   "id": "9b1a4620-70bc-4631-8c79-206fe735df2c",
   "metadata": {},
   "source": [
    "## Instrumental Variables\n",
    "(heavily inspired by Wooldridge ch.15 and the [linearmodels documentation](https://bashtage.github.io/linearmodels/iv/examples/basic-examples.html#Panel-IV))"
   ]
  },
  {
   "cell_type": "code",
   "execution_count": 1,
   "id": "10c65be8-7c88-458e-9ab5-78d1e626d35e",
   "metadata": {},
   "outputs": [],
   "source": [
    "import warnings\n",
    "warnings.simplefilter(action='ignore', category=FutureWarning)"
   ]
  },
  {
   "cell_type": "markdown",
   "id": "8e68e578-8d35-44f9-975f-d16a011b6298",
   "metadata": {},
   "source": [
    "## Research problem"
   ]
  },
  {
   "cell_type": "markdown",
   "id": "55dd1c3e-eb6e-40a1-a033-14cb31d21391",
   "metadata": {},
   "source": [
    "Suppose we want to estimate the effect of another hour of job training on worker productivity. For the two years 1987 and 1988, consider the simple panel data model\n",
    "\n",
    "$$\n",
    "lscrap_{it} = \\beta_0 + \\beta_{1} hrsemp_{it} + U_i + \\epsilon_{it}\n",
    "$$\n",
    "\n",
    "To get rid of the unobserved heterogeneities, let's use First Differences:\n",
    "\n",
    "$$\n",
    "\\Delta_t lscrap_{it} = \\beta \\Delta_t hrsemp_{it} + \\Delta_t\\epsilon_{it}\n",
    "$$\n",
    "\n",
    "Normally, we would estimate this equation by OLS. But what if $\\Delta\\epsilon$ is correlated with $hrsemp$?  \n",
    "\n",
    "For example, a firm might hire more skilled workers, while at the same time reducing the level of job training. In this case, we need an instrumental variable for $hrsemp$.\n",
    "\n",
    "Generally, such an IV would be hard to find, but we can exploit the fact that some firms received job training grants in 1988. If we assume that grant designation is uncorrelated with $\\Delta\\epsilon$ (something that is reasonable, because the grants were given at the begining of 1988) then $grant$ is valid as an IV, provided $hrsemp$ and $grant$ are correlated. "
   ]
  },
  {
   "cell_type": "markdown",
   "id": "e7195ed9-963d-4f91-b4fd-f37cd9e37e28",
   "metadata": {
    "tags": []
   },
   "source": [
    "## Load data"
   ]
  },
  {
   "cell_type": "code",
   "execution_count": 2,
   "id": "1ce8dda8-ec8f-48c6-8865-35058e33f910",
   "metadata": {},
   "outputs": [
    {
     "name": "stdout",
     "output_type": "stream",
     "text": [
      "\n",
      "H. Holzer, R. Block, M. Cheatham, and J. Knott (1993), \"Are Training Subsidies\n",
      "Effective? The Michigan Experience,\" Industrial and Labor Relations Review 46,\n",
      "625-636.\n",
      "\n",
      "year                     1987, 1988, or 1989\n",
      "fcode                    firm code number\n",
      "employ                   # employees at plant\n",
      "sales                    annual sales, $\n",
      "avgsal                   average employee salary\n",
      "scrap                    scrap rate (per 100 items)\n",
      "rework                   rework rate (per 100 items)\n",
      "tothrs                   total hours training\n",
      "union                    =1 if unionized\n",
      "grant                    =1 if received grant\n",
      "d89                      =1 if year = 1989\n",
      "d88                      =1 if year = 1988\n",
      "totrain                  total employees trained\n",
      "hrsemp                   tothrs/totrain\n",
      "lscrap                   log(scrap)\n",
      "lemploy                  log(employ)\n",
      "lsales                   log(sales)\n",
      "lrework                  log(rework)\n",
      "lhrsemp                  log(1 + hrsemp)\n",
      "lscrap_1                 lagged lscrap; missing 1987\n",
      "grant_1                  lagged grant; assumed 0 in 1987\n",
      "clscrap                  lscrap - lscrap_1; year > 1987\n",
      "cgrant                   grant - grant_1\n",
      "clemploy                 lemploy - lemploy[t-1]\n",
      "clsales                  lavgsal - lavgsal[t-1]\n",
      "lavgsal                  log(avgsal)\n",
      "clavgsal                 lavgsal - lavgsal[t-1]\n",
      "cgrant_1                 cgrant[t-1]\n",
      "chrsemp                  hrsemp - hrsemp[t-1]\n",
      "lhrsemp                 lhrsemp - lhrsemp[t-1]\n",
      "\n",
      "              year          fcode      employ         sales        avgsal  \\\n",
      "count   314.000000     314.000000  290.000000  2.450000e+02    267.000000   \n",
      "mean   1987.500000  415708.885350   56.903448  5.679815e+06  18326.284644   \n",
      "std       0.500798    4025.063452   70.843101  6.977975e+06   6507.584305   \n",
      "min    1987.000000  410032.000000    4.000000  1.100000e+05   4237.000000   \n",
      "25%    1987.000000  410604.000000   15.000000  1.527000e+06  13664.000000   \n",
      "50%    1987.500000  418084.000000   27.500000  2.900000e+06  17160.000000   \n",
      "75%    1988.000000  419309.000000   70.000000  7.000000e+06  22000.000000   \n",
      "max    1988.000000  419486.000000  500.000000  4.700000e+07  40563.000000   \n",
      "\n",
      "            scrap     rework      tothrs       union       grant  ...  \\\n",
      "count  108.000000  82.000000  276.000000  314.000000  314.000000  ...   \n",
      "mean     4.199722   3.883537   25.648551    0.197452    0.114650  ...   \n",
      "std      6.188094   6.145294   45.694834    0.398712    0.319107  ...   \n",
      "min      0.010000   0.000000    0.000000    0.000000    0.000000  ...   \n",
      "25%      0.767500   0.332500    0.000000    0.000000    0.000000  ...   \n",
      "50%      1.555000   1.500000    8.000000    0.000000    0.000000  ...   \n",
      "75%      5.000000   4.267500   39.250000    0.000000    0.000000  ...   \n",
      "max     30.000000  40.000000  290.000000    1.000000    1.000000  ...   \n",
      "\n",
      "       grant_1    clscrap      cgrant    clemploy     clsales     lavgsal  \\\n",
      "count    314.0  54.000000  314.000000  144.000000  119.000000  267.000000   \n",
      "mean       0.0  -0.168993    0.114650    0.096876    0.128995    9.754753   \n",
      "std        0.0   0.589774    0.319107    0.251180    0.489422    0.353818   \n",
      "min        0.0  -2.502170    0.000000   -0.411099   -1.982874    8.351611   \n",
      "25%        0.0  -0.350983    0.000000   -0.031946    0.023286    9.522509   \n",
      "50%        0.0  -0.115118    0.000000    0.064538    0.116219    9.750337   \n",
      "75%        0.0   0.092537    0.000000    0.182321    0.215391    9.998797   \n",
      "max        0.0   2.397895    1.000000    1.673976    2.896701   10.610610   \n",
      "\n",
      "         clavgsal  cgrant_1     chrsemp    clhrsemp  \n",
      "count  131.000000     157.0  125.000000  125.000000  \n",
      "mean     0.058601       0.0    7.423050    0.642580  \n",
      "std      0.074255       0.0   19.301290    1.235229  \n",
      "min     -0.080411       0.0  -47.753490   -2.338574  \n",
      "25%      0.020135       0.0    0.000000    0.000000  \n",
      "50%      0.057159       0.0    0.272727    0.039375  \n",
      "75%      0.086255       0.0   10.000000    1.063067  \n",
      "max      0.568912       0.0  107.027800    4.394449  \n",
      "\n",
      "[8 rows x 30 columns]\n"
     ]
    }
   ],
   "source": [
    "from linearmodels.datasets import jobtraining\n",
    "\n",
    "data = jobtraining.load()\n",
    "print(jobtraining.DESCR)\n",
    "data.head()\n",
    "data = data.where(data.year.isin((1987, 1988)))\n",
    "data = data.dropna(how=\"all\", axis=0).sort_values([\"fcode\", \"year\"])\n",
    "print(data.describe())\n",
    "data = data.set_index(\"fcode\")\n",
    "data = data[[\"year\", \"hrsemp\", \"grant\", \"scrap\", \"lscrap\"]]"
   ]
  },
  {
   "cell_type": "code",
   "execution_count": 3,
   "id": "04a82456-09bb-48b5-aabc-f0b4b43cf290",
   "metadata": {},
   "outputs": [
    {
     "data": {
      "text/plain": [
       "{1987.0, 1988.0}"
      ]
     },
     "execution_count": 3,
     "metadata": {},
     "output_type": "execute_result"
    }
   ],
   "source": [
    "set(data.year)"
   ]
  },
  {
   "cell_type": "markdown",
   "id": "84c80af2-22b1-49b8-bd14-e1b309528c72",
   "metadata": {},
   "source": [
    "## Calculate first differences"
   ]
  },
  {
   "cell_type": "code",
   "execution_count": 4,
   "id": "86632a66-5fb2-4df4-bf6d-fe9d3eec69b5",
   "metadata": {},
   "outputs": [],
   "source": [
    "from statsmodels.api import add_constant"
   ]
  },
  {
   "cell_type": "code",
   "execution_count": 5,
   "id": "7a7cd3ea-cb32-439a-80aa-138d7dd55396",
   "metadata": {},
   "outputs": [
    {
     "name": "stdout",
     "output_type": "stream",
     "text": [
      "       const  year     hrsemp      grant      scrap     lscrap\n",
      "count   45.0  45.0  45.000000  45.000000  45.000000  45.000000\n",
      "mean     1.0   1.0  10.812321   0.377778  -0.817556  -0.185697\n",
      "std      0.0   0.0  20.523825   0.490310   2.496392   0.626858\n",
      "min      1.0   1.0 -19.850180   0.000000 -10.000000  -2.502169\n",
      "25%      1.0   1.0   0.000000   0.000000  -1.000000  -0.355820\n",
      "50%      1.0   1.0   1.846154   0.000000  -0.110000  -0.167054\n",
      "75%      1.0   1.0  15.333330   1.000000   0.090000   0.054067\n",
      "max      1.0   1.0  80.000000   1.000000   5.000000   2.397895\n"
     ]
    }
   ],
   "source": [
    "deltas = data.loc[data.year == 1988] - data.loc[data.year == 1987]\n",
    "deltas = add_constant(deltas, has_constant=\"add\")\n",
    "deltas = deltas.dropna()\n",
    "print(deltas.describe())"
   ]
  },
  {
   "cell_type": "markdown",
   "id": "345d1f81-bda7-412f-9f3c-586e78912b53",
   "metadata": {},
   "source": [
    "## Is grant a valid instrument for hrsemp?"
   ]
  },
  {
   "cell_type": "code",
   "execution_count": 6,
   "id": "07b4d99b-58db-4af6-8a4c-8308b495ab98",
   "metadata": {},
   "outputs": [],
   "source": [
    "from statsmodels.regression.linear_model import OLS\n",
    "from linearmodels.iv import IV2SLS"
   ]
  },
  {
   "cell_type": "code",
   "execution_count": 7,
   "id": "f0d4843a-67ee-4fd8-97f9-e1a2ebf3cf3e",
   "metadata": {},
   "outputs": [
    {
     "name": "stdout",
     "output_type": "stream",
     "text": [
      "                            OLS Regression Results                            \n",
      "==============================================================================\n",
      "Dep. Variable:                 hrsemp   R-squared:                       0.341\n",
      "Model:                            OLS   Adj. R-squared:                  0.325\n",
      "Method:                 Least Squares   F-statistic:                     22.23\n",
      "Date:                Sat, 20 Aug 2022   Prob (F-statistic):           2.56e-05\n",
      "Time:                        10:36:32   Log-Likelihood:                -189.94\n",
      "No. Observations:                  45   AIC:                             383.9\n",
      "Df Residuals:                      43   BIC:                             387.5\n",
      "Df Model:                           1                                         \n",
      "Covariance Type:            nonrobust                                         \n",
      "==============================================================================\n",
      "                 coef    std err          t      P>|t|      [0.025      0.975]\n",
      "------------------------------------------------------------------------------\n",
      "const          1.5806      3.185      0.496      0.622      -4.844       8.005\n",
      "grant         24.4369      5.183      4.715      0.000      13.985      34.889\n",
      "==============================================================================\n",
      "Omnibus:                       21.351   Durbin-Watson:                   1.874\n",
      "Prob(Omnibus):                  0.000   Jarque-Bera (JB):               30.779\n",
      "Skew:                           1.521   Prob(JB):                     2.07e-07\n",
      "Kurtosis:                       5.676   Cond. No.                         2.43\n",
      "==============================================================================\n",
      "\n",
      "Notes:\n",
      "[1] Standard Errors assume that the covariance matrix of the errors is correctly specified.\n"
     ]
    }
   ],
   "source": [
    "mod = OLS(deltas.hrsemp, deltas[[\"const\",\"grant\"]])\n",
    "print(mod.fit().summary())"
   ]
  },
  {
   "cell_type": "markdown",
   "id": "57504869-9877-4aa6-9158-9f33db052fe0",
   "metadata": {},
   "source": [
    "Yes, $grant$ is highly correlated to $hrsemp$."
   ]
  },
  {
   "cell_type": "markdown",
   "id": "69168662-7249-423a-8f12-68af76909a51",
   "metadata": {},
   "source": [
    "## Fit regression model with instrumental variable\n",
    "\n",
    "* Two-Stage Least Squares (2SLS)\n",
    "* Main characters in this regression:\n",
    "    * __Dependent variable__: lscrap\n",
    "    * __Exogenous variable__: a constant column of 1s for the intercept + any other variables not being instrumentalized\n",
    "    * __Endogenous variable__: hrsemp\n",
    "    * __Instrumental variable__: grant"
   ]
  },
  {
   "cell_type": "code",
   "execution_count": 112,
   "id": "496c42f8-3359-46b6-8b62-8a851347dffd",
   "metadata": {},
   "outputs": [
    {
     "name": "stdout",
     "output_type": "stream",
     "text": [
      "                          IV-2SLS Estimation Summary                          \n",
      "==============================================================================\n",
      "Dep. Variable:                 lscrap   R-squared:                      0.0159\n",
      "Estimator:                    IV-2SLS   Adj. R-squared:                -0.0070\n",
      "No. Observations:                  45   F-statistic:                    3.3464\n",
      "Date:                Wed, Aug 10 2022   P-value (F-stat)                0.0674\n",
      "Time:                        23:51:58   Distribution:                  chi2(1)\n",
      "Cov. Estimator:            unadjusted                                         \n",
      "                                                                              \n",
      "                             Parameter Estimates                              \n",
      "==============================================================================\n",
      "            Parameter  Std. Err.     T-stat    P-value    Lower CI    Upper CI\n",
      "------------------------------------------------------------------------------\n",
      "const         -0.0327     0.1241    -0.2632     0.7924     -0.2759      0.2106\n",
      "hrsemp        -0.0142     0.0077    -1.8293     0.0674     -0.0293      0.0010\n",
      "==============================================================================\n",
      "\n",
      "Endogenous: hrsemp\n",
      "Instruments: grant\n",
      "Unadjusted Covariance (Homoskedastic)\n",
      "Debiased: False\n"
     ]
    }
   ],
   "source": [
    "iv_mod = IV2SLS(deltas.lscrap, deltas[[\"const\"]], deltas['hrsemp'], deltas['grant'])\n",
    "iv_res = iv_mod.fit(cov_type=\"unadjusted\")\n",
    "print(iv_res)"
   ]
  },
  {
   "cell_type": "markdown",
   "id": "b6a2a5a0-35c7-48e2-b16d-5ab12539804d",
   "metadata": {},
   "source": [
    "## Fit OLS model for comparison (WRONG!)"
   ]
  },
  {
   "cell_type": "code",
   "execution_count": 113,
   "id": "5358c109-888c-49e3-a332-0fce08a3fe3e",
   "metadata": {},
   "outputs": [],
   "source": [
    "from statsmodels.regression.linear_model import OLS"
   ]
  },
  {
   "cell_type": "code",
   "execution_count": 114,
   "id": "c19893b9-263f-4296-8516-291138bc00f7",
   "metadata": {},
   "outputs": [
    {
     "name": "stdout",
     "output_type": "stream",
     "text": [
      "                            OLS Estimation Summary                            \n",
      "==============================================================================\n",
      "Dep. Variable:                 lscrap   R-squared:                      0.0619\n",
      "Estimator:                        OLS   Adj. R-squared:                 0.0401\n",
      "No. Observations:                  45   F-statistic:                    2.9707\n",
      "Date:                Wed, Aug 10 2022   P-value (F-stat)                0.0848\n",
      "Time:                        23:51:59   Distribution:                  chi2(1)\n",
      "Cov. Estimator:            unadjusted                                         \n",
      "                                                                              \n",
      "                             Parameter Estimates                              \n",
      "==============================================================================\n",
      "            Parameter  Std. Err.     T-stat    P-value    Lower CI    Upper CI\n",
      "------------------------------------------------------------------------------\n",
      "const         -0.1035     0.1014    -1.0208     0.3073     -0.3023      0.0952\n",
      "hrsemp        -0.0076     0.0044    -1.7236     0.0848     -0.0162      0.0010\n",
      "==============================================================================\n"
     ]
    }
   ],
   "source": [
    "OLS_mod = IV2SLS(deltas.lscrap, deltas[[\"const\", \"hrsemp\"]], None, None)\n",
    "OLS_res = OLS_mod.fit(cov_type=\"unadjusted\")\n",
    "print(OLS_res)"
   ]
  },
  {
   "cell_type": "markdown",
   "id": "3abb78fe-3a15-4691-9195-c1e011c06cf8",
   "metadata": {},
   "source": [
    "## Compare models"
   ]
  },
  {
   "cell_type": "code",
   "execution_count": 115,
   "id": "6c6a399d-e2e7-4bf2-9a6a-4067453ecd5e",
   "metadata": {},
   "outputs": [],
   "source": [
    "from linearmodels.iv import compare"
   ]
  },
  {
   "cell_type": "code",
   "execution_count": 116,
   "id": "6d1eb760-b295-4ea5-85d4-638a20c794f6",
   "metadata": {},
   "outputs": [
    {
     "name": "stdout",
     "output_type": "stream",
     "text": [
      "                 Model Comparison                 \n",
      "==================================================\n",
      "                                OLS       Panel IV\n",
      "--------------------------------------------------\n",
      "Dep. Variable                lscrap         lscrap\n",
      "Estimator                       OLS        IV-2SLS\n",
      "No. Observations                 45             45\n",
      "Cov. Est.                unadjusted     unadjusted\n",
      "R-squared                    0.0619         0.0159\n",
      "Adj. R-squared               0.0401        -0.0070\n",
      "F-statistic                  2.9707         3.3464\n",
      "P-value (F-stat)             0.0848         0.0674\n",
      "==================     ============   ============\n",
      "const                       -0.1035        -0.0327\n",
      "                           (0.1014)       (0.1241)\n",
      "hrsemp                     -0.0076*       -0.0142*\n",
      "                           (0.0044)       (0.0077)\n",
      "==================== ============== ==============\n",
      "Instruments                                  grant\n",
      "--------------------------------------------------\n",
      "\n",
      "Std. Errors reported in parentheses\n"
     ]
    }
   ],
   "source": [
    "print(compare({\"OLS\": OLS_res,\"Panel IV\": iv_res}, precision='std_errors', stars=True))"
   ]
  },
  {
   "cell_type": "markdown",
   "id": "bea8e91d-79b6-4599-bc21-0bbdacd9a4a7",
   "metadata": {},
   "source": [
    "Compare coefficient of $hrsemp$ in both models"
   ]
  },
  {
   "cell_type": "code",
   "execution_count": null,
   "id": "eb5a6efe-b1da-4fa2-93a7-d97124bdb06d",
   "metadata": {},
   "outputs": [],
   "source": []
  },
  {
   "cell_type": "code",
   "execution_count": null,
   "id": "9c32c2e4-8895-4355-a456-927a7ab1564e",
   "metadata": {},
   "outputs": [],
   "source": []
  }
 ],
 "metadata": {
  "kernelspec": {
   "display_name": "Python 3 (ipykernel)",
   "language": "python",
   "name": "python3"
  },
  "language_info": {
   "codemirror_mode": {
    "name": "ipython",
    "version": 3
   },
   "file_extension": ".py",
   "mimetype": "text/x-python",
   "name": "python",
   "nbconvert_exporter": "python",
   "pygments_lexer": "ipython3",
   "version": "3.8.5"
  }
 },
 "nbformat": 4,
 "nbformat_minor": 5
}
