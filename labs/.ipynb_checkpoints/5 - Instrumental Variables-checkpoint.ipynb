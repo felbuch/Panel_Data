{
 "cells": [
  {
   "cell_type": "markdown",
   "id": "861b280a-99dc-4c6a-bf9c-7cd836964825",
   "metadata": {},
   "source": [
    "# Instrumental Variables"
   ]
  },
  {
   "cell_type": "markdown",
   "id": "d55c9d7d-f161-44fc-b9ec-87c3e7f0c663",
   "metadata": {},
   "source": [
    "The relation between the demand for and the price of commodities is a simple yet widespread problem in economics. Health economics is concerned with the study of how health-affecting behavior of individuals is influenced by the health-care system and regulation policy. Probably the most prominent example in public policy debates is smoking as it is related to many illnesses and negative externalities.\n",
    "\n",
    "It is plausible that cigarette consumption can be reduced by taxing cigarettes more heavily. The question is by how much taxes must be increased to reach a certain reduction in cigarette consumption. Economists use elasticities to answer this kind of question. Since the price elasticity for the demand of cigarettes is unknown, it must be estimated. An OLS regression of log quantity on log price cannot be used to estimate the effect of interest since there is simultaneous causality between demand and supply. Instead, IV regression can be used.\n",
    "\n",
    "We use the data set CigarettesSW which comes with the package AER. It is a panel data set that contains observations on cigarette consumption and several economic indicators for all 48 continental federal states of the U.S. from 1985 to 1995. Following the book we consider data for the cross section of states in 1995 only.\n",
    "\n",
    "We're interested in estimating $\\beta_1$ in: \n",
    "\n",
    "$\\log(Q_i^{cigarettes}) = \\beta_0 + \\beta_1 \\log(P_i^{cigarettes}) + u_i$\n",
    "\n",
    "where $Q_i^{cigarettes}$  is the number of cigarette packs per capita sold and $P_i^{cigarettes}$ is the after-tax average real price per pack of cigarettes in state $i$.\n",
    "\n",
    "The instrumental variable we are going to use for instrumenting the endogenous regressor $log(P_i^{cigarettes})$ is `SalesTax`, the portion of taxes on cigarettes arising from the general sales tax. SalesTax is measured in dollars per pack. The idea is that SalesTax is a relevant instrument as it is included in the after-tax average price per pack. Also, it is plausible that SalesTax is exogenous since the sales tax does not influence quantity sold directly but indirectly through the price.\n",
    "\n",
    "We perform some transformations in order to obtain deflated cross section data for the year 1995.\n",
    "\n",
    "This is the code to to it in R:\n",
    "\n",
    "```R\n",
    "# compute real per capita prices\n",
    "CigarettesSW$rprice <- with(CigarettesSW, price / cpi)\n",
    "\n",
    "#  compute the sales tax\n",
    "CigarettesSW$salestax <- with(CigarettesSW, (taxs - tax) / cpi)\n",
    "\n",
    "# generate a subset for the year 1995\n",
    "c1995 <- subset(CigarettesSW, year == \"1995\")\n",
    "\n",
    "```"
   ]
  },
  {
   "cell_type": "markdown",
   "id": "cdaeb176-dd3a-467c-a230-94e3557fb7ce",
   "metadata": {},
   "source": [
    "### (a) Correlation\n",
    "\n",
    "Calculate the correlation between sales tax and price.  \n",
    "What does this suggest about sales tax being an adequate instrument for price?\n",
    "\n",
    "### (b) IV regression\n",
    "\n",
    "Run an Instrumental Variable Regression to estimate the effect of cigarette price on cigarette consumption using sales tax as an instrument for cigarette price."
   ]
  },
  {
   "cell_type": "code",
   "execution_count": null,
   "id": "f005e5b9-b5c6-4d03-8c37-da37f353c171",
   "metadata": {},
   "outputs": [],
   "source": []
  }
 ],
 "metadata": {
  "kernelspec": {
   "display_name": "Python 3 (ipykernel)",
   "language": "python",
   "name": "python3"
  },
  "language_info": {
   "codemirror_mode": {
    "name": "ipython",
    "version": 3
   },
   "file_extension": ".py",
   "mimetype": "text/x-python",
   "name": "python",
   "nbconvert_exporter": "python",
   "pygments_lexer": "ipython3",
   "version": "3.8.5"
  }
 },
 "nbformat": 4,
 "nbformat_minor": 5
}
