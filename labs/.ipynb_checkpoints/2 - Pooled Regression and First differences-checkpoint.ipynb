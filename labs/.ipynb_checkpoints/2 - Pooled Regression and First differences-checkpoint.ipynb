{
 "cells": [
  {
   "cell_type": "markdown",
   "id": "cc34d32c-fc56-4890-836e-64c76fa27ed5",
   "metadata": {},
   "source": [
    "# Lab 2\n",
    "\n",
    "## More beer!\n",
    "\n",
    "Let's continue analyzing the Fatalities dataset.\n",
    "\n",
    "### (a) First differences with two periods\n",
    "\n",
    "One way to eliminate unobserved heterogeneities that are fixed in time is to see how changes in beer tax affect changes in fatalities. That's the rationale behind __First Difference (FD) regression__.  \n",
    "\n",
    "Before we tackle a full-scale FD model, let's consider a simpler case where we have only two time periods. Let's consider only the first year (1982) and the last year (1988) and see how changes in beer rate from 1982 to 1988 relate to changes in fatalities over the same period. Colloquially, this is what we would call a before-and-after analysis. More technically, this approach is also called a __difference-in-difference (diff-in-diff)  model__, since we'll regress a _difference_ in fatalities on  on a _difference_ in beer tax. \n",
    "\n",
    "Enough of theory. Let's get our hands diry.  \n",
    "\n",
    "Considering only the years of 1982 and 1988, run a differences-in-differences regression to estimate the effect of beer tax on fatalities. Interpret your results. Do they make sense? Let me be more specific:\n",
    "\n",
    "Consider the coefficient that captures the effect of beer tax on fatality rates.\n",
    "* Does it have the sign we would expect it to have?\n",
    "* Is the size of this coefficient reasonable?\n",
    "Discuss.\n",
    "\n",
    "### (b) First differences regression\n",
    "\n",
    "One obvious problem of diff-in-diff is that it considers only two years. First Differences regression has no such problem: it can take all years in our dataset into account.  \n",
    "\n",
    "Run a __First Differences__ regression to estimate the effect of beer tax in traffic fatalities.  \n",
    "\n",
    "Interpret your results as you did in the previous item.\n",
    "\n",
    "### (c) Fixed effects regression\n",
    "\n",
    "Another approach to estimating the effect of beer tax on fatalities is Fixed Effects. \n",
    "\n",
    "Run a model with state-level time-invariant __fixed-effects__ and discuss your results.\n",
    "\n",
    "### (d) Choosing the best model\n",
    "\n",
    "Which model is better? First Difference or Fixed Effects? \n",
    "\n",
    "### (e) Quantifying fixed effects\n",
    "\n",
    "Regardless of your answer to the previous question, let's explore the Fixed Effects model some more (for the sake of learning).\n",
    "\n",
    "Can you get the magnitude of the fixed effect for each state?\n",
    "\n",
    "### (f) Pooled regression again!\n",
    "\n",
    "How do these fixed effects estimated  relate to the dummy variables you added to your pool regression on the previous Lab assignment?\n",
    "\n"
   ]
  },
  {
   "cell_type": "code",
   "execution_count": null,
   "id": "f2d1b04f-449c-4aac-a909-3971c4449f8b",
   "metadata": {},
   "outputs": [],
   "source": []
  }
 ],
 "metadata": {
  "kernelspec": {
   "display_name": "Python 3 (ipykernel)",
   "language": "python",
   "name": "python3"
  },
  "language_info": {
   "codemirror_mode": {
    "name": "ipython",
    "version": 3
   },
   "file_extension": ".py",
   "mimetype": "text/x-python",
   "name": "python",
   "nbconvert_exporter": "python",
   "pygments_lexer": "ipython3",
   "version": "3.8.5"
  }
 },
 "nbformat": 4,
 "nbformat_minor": 5
}
