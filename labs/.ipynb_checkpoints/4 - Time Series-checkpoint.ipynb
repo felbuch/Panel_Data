{
 "cells": [
  {
   "cell_type": "markdown",
   "id": "12875dee-9937-4bd7-abde-3268e4c47f3e",
   "metadata": {},
   "source": [
    "# Time Series\n",
    "\n",
    "IVVB11 is an ETF that replicates the S&P 500 in the Brazilian market.\n",
    "Download data on IVVB11 returns over the last year.\n",
    "You can do this in Python using the following code (and then load the data in R or Stata, if you wish)."
   ]
  },
  {
   "cell_type": "code",
   "execution_count": null,
   "id": "46cc1448-8c02-4678-b527-4d971c668d81",
   "metadata": {},
   "outputs": [],
   "source": [
    "#Install investpy in case you haven't yet\n",
    "#!pip install investpy"
   ]
  },
  {
   "cell_type": "code",
   "execution_count": null,
   "id": "5cd1dcbd-972d-437b-bf8e-9206ddda5fa7",
   "metadata": {},
   "outputs": [],
   "source": [
    "from datetime import date, timedelta\n",
    "from investpy import get_etf_historical_data\n",
    "\n",
    "start_date = format(date.today() - timedelta(365), \"%d/%m/%Y\")\n",
    "end_date = format(date.today() - timedelta(1), \"%d/%m/%Y\")\n",
    "\n",
    "data = get_etf_historical_data('Fundo de Invest Ishares SP 500','brazil',start_date, end_date)"
   ]
  },
  {
   "cell_type": "markdown",
   "id": "7091b562-eda3-4498-82b8-f83f22fc3cec",
   "metadata": {},
   "source": [
    "__Build the best time series model you can to predict this time series.__\n",
    "\n",
    "(oh! - what exactly do I mean by \"the best\"?)  \n",
    "\n",
    "_Rules:_ \n",
    "* It has to be a time series model (no ML models such as random forests or xgboost)\n",
    "* Residuals should be normally distributed, homoskedastic and independent (which of these assumptions is the hardest to meet and why?)\n",
    "\n",
    "_Bonus points:_\n",
    "* Can you separate the last \"x\" days (say, a month) as a test set and see how well your model would have performed over this period (e.g. what would have been its $RMSE$? Just please, please don't pick $R^2$! That's really not how you want to evaluate your model -- why not?)\n",
    "* Can you build a ML model to do the same prediction and compare its performance with that of your time series model?"
   ]
  },
  {
   "cell_type": "code",
   "execution_count": null,
   "id": "8824ce40-0518-41c6-ad53-7ce510c28a7f",
   "metadata": {},
   "outputs": [],
   "source": []
  }
 ],
 "metadata": {
  "kernelspec": {
   "display_name": "Python 3 (ipykernel)",
   "language": "python",
   "name": "python3"
  },
  "language_info": {
   "codemirror_mode": {
    "name": "ipython",
    "version": 3
   },
   "file_extension": ".py",
   "mimetype": "text/x-python",
   "name": "python",
   "nbconvert_exporter": "python",
   "pygments_lexer": "ipython3",
   "version": "3.8.5"
  }
 },
 "nbformat": 4,
 "nbformat_minor": 5
}
