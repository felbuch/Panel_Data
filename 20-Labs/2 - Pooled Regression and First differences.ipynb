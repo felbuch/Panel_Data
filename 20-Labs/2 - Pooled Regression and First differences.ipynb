{
 "cells": [
  {
   "cell_type": "markdown",
   "id": "cc34d32c-fc56-4890-836e-64c76fa27ed5",
   "metadata": {},
   "source": [
    "# Pooled Regression and First Differences\n",
    "\n",
    "## Beer in the pool!\n",
    "\n",
    "Let's continue analyzing the Fatalities dataset.\n",
    "\n",
    "### (a) A jump in the pool\n",
    "\n",
    "Run a __Pooled Regression__ to predict Fatalities in terms of beer tax and any other covariate you deem relevant.  Do the usual checks for validity of a regression model's assumptions: normality, homoskedasticity etc. Then, discuss if results make sense.\n",
    "\n",
    "### (b) In the pool with dummies\n",
    "\n",
    "Add state dummies to your previous pooled regression.   \n",
    "Remove the intercept, so that each state can have its own dummy. (this is important!)\n",
    "\n",
    "* Are these dummies statistically significant? \n",
    "* What does this tell you about the appropriateness of using a pooled regression to tackle this problem?\n",
    "* How does this relate to your findings in item (c)?\n",
    "\n",
    "### (c) Breusch-Pagan LM\n",
    "\n",
    "Adding dummies to a pooled regression is one way of testing its adequacy. Another is using a Breusch-Pagan Lagrange Multipliers test. \n",
    "\n",
    "Run a Breusch-Pagan Lagrange Multipliers test to verify whether a Pooled Regression is adequate in this case. Does the test suggest you should stick with a Pooled Regression or try some other model? (if so, which?)\n",
    "\n",
    "### (d) First differences with two periods\n",
    "\n",
    "One way to eliminate unobserved heterogeneities that are fixed in time is to see how changes in beer tax affect changes in fatalities. That's the rationale behind __First Difference (FD) regression__.  \n",
    "\n",
    "Before we tackle a full-scale FD model, let's consider a simpler case where we have only two time periods. Let's consider only the first year (1982) and the last year (1988) and see how changes in beer rate from 1982 to 1988 relate to changes in fatalities over the same period. Colloquially, this is what we would call a before-and-after analysis. More technically, this approach is also called a __difference-in-difference (diff-in-diff)  model__, since we'll regress a _difference_ in fatalities on  on a _difference_ in beer tax. \n",
    "\n",
    "Enough of theory. Let's get our hands diry.  \n",
    "\n",
    "Considering only the years of 1982 and 1988, run a differences-in-differences regression to estimate the effect of beer tax on fatalities. Interpret your results. Do they make sense? Let me be more specific:\n",
    "\n",
    "Consider the coefficient that captures the effect of beer tax on fatality rates.\n",
    "* Does it have the sign we would expect it to have?\n",
    "* Is the size of this coefficient reasonable?\n",
    "Discuss.\n",
    "\n",
    "### (e) First differences regression\n",
    "\n",
    "One obvious problem of diff-in-diff is that it considers only two years. First Differences regression has no such problem: it can take all years in our dataset into account.  \n",
    "\n",
    "Run a __First Differences__ regression to estimate the effect of beer tax in traffic fatalities.  \n",
    "\n",
    "Interpret your results as you did in the previous item.\n",
    "\n",
    "### (f) Residuals\n",
    "\n",
    "Are residuals independent? If case you haven't checked that already, do it now. In the next lab, this will help us decide which model is better, whether it is a First Difference model or a Fixed-Effects.\n"
   ]
  },
  {
   "cell_type": "code",
   "execution_count": null,
   "id": "f2d1b04f-449c-4aac-a909-3971c4449f8b",
   "metadata": {},
   "outputs": [],
   "source": []
  }
 ],
 "metadata": {
  "kernelspec": {
   "display_name": "Python 3 (ipykernel)",
   "language": "python",
   "name": "python3"
  },
  "language_info": {
   "codemirror_mode": {
    "name": "ipython",
    "version": 3
   },
   "file_extension": ".py",
   "mimetype": "text/x-python",
   "name": "python",
   "nbconvert_exporter": "python",
   "pygments_lexer": "ipython3",
   "version": "3.8.5"
  }
 },
 "nbformat": 4,
 "nbformat_minor": 5
}
