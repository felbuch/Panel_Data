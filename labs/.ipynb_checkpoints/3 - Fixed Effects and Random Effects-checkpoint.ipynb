{
 "cells": [
  {
   "cell_type": "markdown",
   "id": "cc34d32c-fc56-4890-836e-64c76fa27ed5",
   "metadata": {},
   "source": [
    "# Lab 2\n",
    "\n",
    "## More beer!\n",
    "\n",
    "Let's continue analyzing the Fatalities dataset.\n",
    "\n",
    "### (a) Fixed effects regression \n",
    "\n",
    "Run a model with state-level time-invariant __fixed-effects__ to estimate the effect of beer tax on fatalities. Discuss your results.\n",
    "\n",
    "### (b) Quantifying fixed effects\n",
    "\n",
    "Can you get the magnitude of the fixed effect for each state?\n",
    "\n",
    "### (c) Pooled regression again!\n",
    "\n",
    "How do these fixed effects estimated  relate to the dummy variables you added to your pool regression on the previous Lab assignment?\n",
    "\n",
    "### (d) Residuals\n",
    "\n",
    "Are residuals from the fixed effects regression independent? In case you haven't checked that, do it now. Then, go back to your previous lab and see if residuals from your First Difference model were independent. Use this to discuss which of the two models is more suited for our problem.\n",
    "\n",
    "### (e) Random Effects\n",
    "\n",
    "Run a model with state-level time-invariant __random-effects__ to estimate the effect of beer tax on fatalities. Discuss your results.\n"
   ]
  },
  {
   "cell_type": "code",
   "execution_count": null,
   "id": "f2d1b04f-449c-4aac-a909-3971c4449f8b",
   "metadata": {},
   "outputs": [],
   "source": []
  }
 ],
 "metadata": {
  "kernelspec": {
   "display_name": "Python 3 (ipykernel)",
   "language": "python",
   "name": "python3"
  },
  "language_info": {
   "codemirror_mode": {
    "name": "ipython",
    "version": 3
   },
   "file_extension": ".py",
   "mimetype": "text/x-python",
   "name": "python",
   "nbconvert_exporter": "python",
   "pygments_lexer": "ipython3",
   "version": "3.8.5"
  }
 },
 "nbformat": 4,
 "nbformat_minor": 5
}
