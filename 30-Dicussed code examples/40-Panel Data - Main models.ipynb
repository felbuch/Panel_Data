{
 "cells": [
  {
   "cell_type": "markdown",
   "id": "2fdddd58-5955-4fa2-9c42-49e20388124b",
   "metadata": {},
   "source": [
    "# Overview of main models\n",
    "\n",
    "* [x] Pooled Regression \n",
    "* [x] First Differences\n",
    "* [x] Fixed Effects\n",
    "* [x] Random Effects"
   ]
  },
  {
   "cell_type": "code",
   "execution_count": 1,
   "id": "77fce4c2-a3f1-4fd6-b573-38a61809feee",
   "metadata": {},
   "outputs": [],
   "source": [
    "import warnings\n",
    "warnings.simplefilter(action='ignore', category=FutureWarning)"
   ]
  },
  {
   "cell_type": "markdown",
   "id": "f8ee0c8e-b4d9-4558-aa80-9560245daff0",
   "metadata": {},
   "source": [
    "## Load data"
   ]
  },
  {
   "cell_type": "code",
   "execution_count": 3,
   "id": "8d402c87-370a-441a-a8e7-ab1c8e9a849e",
   "metadata": {},
   "outputs": [
    {
     "name": "stdout",
     "output_type": "stream",
     "text": [
      "Collecting linearmodels\n",
      "  Downloading linearmodels-5.1-cp39-cp39-win_amd64.whl (1.9 MB)\n",
      "     ---------------------------------------- 1.9/1.9 MB 12.3 MB/s eta 0:00:00\n",
      "Collecting formulaic>=0.6.1\n",
      "  Downloading formulaic-0.6.3-py3-none-any.whl (82 kB)\n",
      "     ---------------------------------------- 82.5/82.5 kB ? eta 0:00:00\n",
      "Requirement already satisfied: statsmodels>=0.12.0 in c:\\users\\felbu\\anaconda3\\lib\\site-packages (from linearmodels) (0.13.2)\n",
      "Requirement already satisfied: pandas>=1.1.0 in c:\\users\\felbu\\anaconda3\\lib\\site-packages (from linearmodels) (1.4.4)\n",
      "Requirement already satisfied: mypy-extensions>=0.4 in c:\\users\\felbu\\anaconda3\\lib\\site-packages (from linearmodels) (0.4.3)\n",
      "Collecting pyhdfe>=0.1\n",
      "  Downloading pyhdfe-0.1.2-py3-none-any.whl (18 kB)\n",
      "Requirement already satisfied: numpy>=1.19.0 in c:\\users\\felbu\\anaconda3\\lib\\site-packages (from linearmodels) (1.21.5)\n",
      "Collecting Cython>=0.29.34\n",
      "  Downloading Cython-0.29.36-py2.py3-none-any.whl (988 kB)\n",
      "     ------------------------------------- 988.3/988.3 kB 31.6 MB/s eta 0:00:00\n",
      "Collecting setuptools-scm[toml]<8.0.0,>=7.0.0\n",
      "  Downloading setuptools_scm-7.1.0-py3-none-any.whl (43 kB)\n",
      "     ---------------------------------------- 43.8/43.8 kB 2.1 MB/s eta 0:00:00\n",
      "Requirement already satisfied: scipy>=1.5.0 in c:\\users\\felbu\\anaconda3\\lib\\site-packages (from linearmodels) (1.9.1)\n",
      "Requirement already satisfied: typing-extensions>=4.2.0 in c:\\users\\felbu\\anaconda3\\lib\\site-packages (from formulaic>=0.6.1->linearmodels) (4.3.0)\n",
      "Requirement already satisfied: wrapt>=1.0 in c:\\users\\felbu\\anaconda3\\lib\\site-packages (from formulaic>=0.6.1->linearmodels) (1.14.1)\n",
      "Collecting interface-meta>=1.2.0\n",
      "  Using cached interface_meta-1.3.0-py3-none-any.whl (14 kB)\n",
      "Collecting astor>=0.8\n",
      "  Using cached astor-0.8.1-py2.py3-none-any.whl (27 kB)\n",
      "Requirement already satisfied: pytz>=2020.1 in c:\\users\\felbu\\anaconda3\\lib\\site-packages (from pandas>=1.1.0->linearmodels) (2023.3)\n",
      "Requirement already satisfied: python-dateutil>=2.8.1 in c:\\users\\felbu\\anaconda3\\lib\\site-packages (from pandas>=1.1.0->linearmodels) (2.8.2)\n",
      "Requirement already satisfied: tomli>=1.0.0 in c:\\users\\felbu\\anaconda3\\lib\\site-packages (from setuptools-scm[toml]<8.0.0,>=7.0.0->linearmodels) (2.0.1)\n",
      "Requirement already satisfied: setuptools in c:\\users\\felbu\\anaconda3\\lib\\site-packages (from setuptools-scm[toml]<8.0.0,>=7.0.0->linearmodels) (63.4.1)\n",
      "Requirement already satisfied: packaging>=20.0 in c:\\users\\felbu\\anaconda3\\lib\\site-packages (from setuptools-scm[toml]<8.0.0,>=7.0.0->linearmodels) (21.3)\n",
      "Requirement already satisfied: patsy>=0.5.2 in c:\\users\\felbu\\anaconda3\\lib\\site-packages (from statsmodels>=0.12.0->linearmodels) (0.5.2)\n",
      "Requirement already satisfied: pyparsing!=3.0.5,>=2.0.2 in c:\\users\\felbu\\anaconda3\\lib\\site-packages (from packaging>=20.0->setuptools-scm[toml]<8.0.0,>=7.0.0->linearmodels) (3.0.9)\n",
      "Requirement already satisfied: six in c:\\users\\felbu\\anaconda3\\lib\\site-packages (from patsy>=0.5.2->statsmodels>=0.12.0->linearmodels) (1.16.0)\n",
      "Installing collected packages: interface-meta, Cython, astor, setuptools-scm, pyhdfe, formulaic, linearmodels\n",
      "  Attempting uninstall: Cython\n",
      "    Found existing installation: Cython 0.29.32\n",
      "    Uninstalling Cython-0.29.32:\n",
      "      Successfully uninstalled Cython-0.29.32\n",
      "Successfully installed Cython-0.29.36 astor-0.8.1 formulaic-0.6.3 interface-meta-1.3.0 linearmodels-5.1 pyhdfe-0.1.2 setuptools-scm-7.1.0\n"
     ]
    }
   ],
   "source": [
    "!pip install linearmodels"
   ]
  },
  {
   "cell_type": "code",
   "execution_count": 5,
   "id": "f0cc3187-85fb-463a-b44f-22e8edbeda95",
   "metadata": {},
   "outputs": [
    {
     "name": "stdout",
     "output_type": "stream",
     "text": [
      "\n",
      "F. Vella and M. Verbeek (1998), \"Whose Wages Do Unions Raise? A Dynamic Model\n",
      "of Unionism and Wage Rate Determination for Young Men,\" Journal of Applied\n",
      "Econometrics 13, 163-183.\n",
      "\n",
      "nr                       person identifier\n",
      "year                     1980 to 1987\n",
      "black                    =1 if black\n",
      "exper                    labor market experience\n",
      "hisp                     =1 if Hispanic\n",
      "hours                    annual hours worked\n",
      "married                  =1 if married\n",
      "educ                     years of schooling\n",
      "union                    =1 if in union\n",
      "lwage                    log(wage)\n",
      "expersq                  exper^2\n",
      "occupation               Occupation code\n",
      "\n",
      "         black  exper  hisp  hours  married  educ  union     lwage  expersq  \\\n",
      "nr year                                                                       \n",
      "13 1980      0      1     0   2672        0    14      0  1.197540        1   \n",
      "   1981      0      2     0   2320        0    14      1  1.853060        4   \n",
      "   1982      0      3     0   2940        0    14      0  1.344462        9   \n",
      "   1983      0      4     0   2960        0    14      0  1.433213       16   \n",
      "   1984      0      5     0   3071        0    14      0  1.568125       25   \n",
      "\n",
      "         occupation  year  \n",
      "nr year                    \n",
      "13 1980           9  1980  \n",
      "   1981           9  1981  \n",
      "   1982           9  1982  \n",
      "   1983           9  1983  \n",
      "   1984           5  1984  \n"
     ]
    }
   ],
   "source": [
    "import pandas as pd\n",
    "from linearmodels.datasets import wage_panel\n",
    "\n",
    "data = wage_panel.load()\n",
    "year = pd.Categorical(data.year)\n",
    "data = data.set_index([\"nr\", \"year\"])\n",
    "data[\"year\"] = year\n",
    "print(wage_panel.DESCR)\n",
    "print(data.head())"
   ]
  },
  {
   "cell_type": "markdown",
   "id": "6f068d9a-3a90-4ad8-9d29-add8b54c1f92",
   "metadata": {},
   "source": [
    "## Visualization of unobserved heterogeneities"
   ]
  },
  {
   "cell_type": "code",
   "execution_count": 6,
   "id": "7a614cdc-2d01-4b6b-bd49-ddc6645c64c1",
   "metadata": {},
   "outputs": [
    {
     "data": {
      "image/png": "[encoded data removed]",
      "text/plain": [
       "<Figure size 1000x600 with 1 Axes>"
      ]
     },
     "metadata": {},
     "output_type": "display_data"
    }
   ],
   "source": [
    "import matplotlib.pyplot as plt\n",
    "import seaborn as sns\n",
    "\n",
    "\n",
    "data_plot = (data[['lwage']].\n",
    "             reset_index().\n",
    "             pivot(index='year', columns='nr', values='lwage').\n",
    "             sample(n=4, axis=1, random_state=1)\n",
    "            )\n",
    "\n",
    "plt.figure(figsize=(10,6))\n",
    "sns.lineplot(data = data_plot)\n",
    "plt.legend('')\n",
    "plt.show()"
   ]
  },
  {
   "cell_type": "markdown",
   "id": "758d6e1f-a15f-4b86-831c-3e95834de453",
   "metadata": {},
   "source": [
    "## Preprocess data\n",
    "* Define exogenous variables ($X$)\n",
    "* Add constant"
   ]
  },
  {
   "cell_type": "code",
   "execution_count": 33,
   "id": "fe2b05f6-46dd-4fcf-850b-aa126d41e9e2",
   "metadata": {},
   "outputs": [],
   "source": [
    "import statsmodels.api as sm\n",
    "\n",
    "#Exogenous variables with time-invariant covariates\n",
    "exog_vars = [\"black\", \"hisp\", \"exper\", \"expersq\", \"married\", \"educ\", \"union\"] #, \"year\"]\n",
    "exog = sm.add_constant(data[exog_vars])\n",
    "\n",
    "\n",
    "#Exogenous variables without time-invariant covariates\n",
    "exog_vars_notic = [\"exper\", \"expersq\", \"married\", \"union\"]\n",
    "exog_notic = data[exog_vars_notic] #notic = No Time-Invariant Covariates"
   ]
  },
  {
   "cell_type": "markdown",
   "id": "8ab8b39a-1c21-4902-a946-59cf5db53f09",
   "metadata": {
    "tags": []
   },
   "source": [
    "## Evaluate models"
   ]
  },
  {
   "cell_type": "markdown",
   "id": "9a8c4162-6534-46ad-ace4-7790af40c666",
   "metadata": {
    "tags": []
   },
   "source": [
    "### Pooled Regression"
   ]
  },
  {
   "cell_type": "code",
   "execution_count": 34,
   "id": "bb460c10-076a-48f1-b1d4-5656fcf803c5",
   "metadata": {},
   "outputs": [
    {
     "name": "stdout",
     "output_type": "stream",
     "text": [
      "                          PooledOLS Estimation Summary                          \n",
      "================================================================================\n",
      "Dep. Variable:                  lwage   R-squared:                        0.1866\n",
      "Estimator:                  PooledOLS   R-squared (Between):              0.2027\n",
      "No. Observations:                4360   R-squared (Within):               0.1679\n",
      "Date:                Sun, Jul 09 2023   R-squared (Overall):              0.1866\n",
      "Time:                        20:18:51   Log-likelihood                   -2989.2\n",
      "Cov. Estimator:            Unadjusted                                           \n",
      "                                        F-statistic:                      142.61\n",
      "Entities:                         545   P-value                           0.0000\n",
      "Avg Obs:                       8.0000   Distribution:                  F(7,4352)\n",
      "Min Obs:                       8.0000                                           \n",
      "Max Obs:                       8.0000   F-statistic (robust):             142.61\n",
      "                                        P-value                           0.0000\n",
      "Time periods:                       8   Distribution:                  F(7,4352)\n",
      "Avg Obs:                       545.00                                           \n",
      "Min Obs:                       545.00                                           \n",
      "Max Obs:                       545.00                                           \n",
      "                                                                                \n",
      "                             Parameter Estimates                              \n",
      "==============================================================================\n",
      "            Parameter  Std. Err.     T-stat    P-value    Lower CI    Upper CI\n",
      "------------------------------------------------------------------------------\n",
      "const         -0.0347     0.0646    -0.5375     0.5910     -0.1613      0.0919\n",
      "black         -0.1438     0.0236    -6.1055     0.0000     -0.1900     -0.0977\n",
      "hisp           0.0157     0.0208     0.7543     0.4507     -0.0251      0.0565\n",
      "exper          0.0892     0.0101     8.8200     0.0000      0.0694      0.1090\n",
      "expersq       -0.0028     0.0007    -4.0272     0.0001     -0.0042     -0.0015\n",
      "married        0.1077     0.0157     6.8592     0.0000      0.0769      0.1384\n",
      "educ           0.0994     0.0047     21.248     0.0000      0.0902      0.1086\n",
      "union          0.1801     0.0171     10.518     0.0000      0.1465      0.2136\n",
      "==============================================================================\n"
     ]
    }
   ],
   "source": [
    "from linearmodels.panel import PooledOLS\n",
    "\n",
    "mod = PooledOLS(data.lwage, exog)\n",
    "pooled_res = mod.fit()\n",
    "print(pooled_res)"
   ]
  },
  {
   "cell_type": "markdown",
   "id": "fac3576f-d8c9-4c37-80d3-f77159442f3d",
   "metadata": {},
   "source": [
    "### First Differences"
   ]
  },
  {
   "cell_type": "code",
   "execution_count": 35,
   "id": "04423783-06f5-4430-b2ae-e4e1400edba2",
   "metadata": {},
   "outputs": [
    {
     "name": "stdout",
     "output_type": "stream",
     "text": [
      "                     FirstDifferenceOLS Estimation Summary                      \n",
      "================================================================================\n",
      "Dep. Variable:                  lwage   R-squared:                        0.0268\n",
      "Estimator:         FirstDifferenceOLS   R-squared (Between):              0.5491\n",
      "No. Observations:                3815   R-squared (Within):               0.1763\n",
      "Date:                Sun, Jul 09 2023   R-squared (Overall):              0.5328\n",
      "Time:                        20:18:56   Log-likelihood                   -2305.5\n",
      "Cov. Estimator:            Unadjusted                                           \n",
      "                                        F-statistic:                      26.208\n",
      "Entities:                         545   P-value                           0.0000\n",
      "Avg Obs:                       8.0000   Distribution:                  F(4,3811)\n",
      "Min Obs:                       8.0000                                           \n",
      "Max Obs:                       8.0000   F-statistic (robust):             26.208\n",
      "                                        P-value                           0.0000\n",
      "Time periods:                       8   Distribution:                  F(4,3811)\n",
      "Avg Obs:                       545.00                                           \n",
      "Min Obs:                       545.00                                           \n",
      "Max Obs:                       545.00                                           \n",
      "                                                                                \n",
      "                             Parameter Estimates                              \n",
      "==============================================================================\n",
      "            Parameter  Std. Err.     T-stat    P-value    Lower CI    Upper CI\n",
      "------------------------------------------------------------------------------\n",
      "exper          0.1158     0.0196     5.9096     0.0000      0.0773      0.1542\n",
      "expersq       -0.0039     0.0014    -2.8005     0.0051     -0.0066     -0.0012\n",
      "married        0.0381     0.0229     1.6633     0.0963     -0.0068      0.0831\n",
      "union          0.0428     0.0197     2.1767     0.0296      0.0042      0.0813\n",
      "==============================================================================\n"
     ]
    }
   ],
   "source": [
    "from linearmodels.panel import FirstDifferenceOLS\n",
    "\n",
    "mod = FirstDifferenceOLS(data.lwage, exog_notic)\n",
    "fd_res = mod.fit()\n",
    "print(fd_res)"
   ]
  },
  {
   "cell_type": "markdown",
   "id": "1bdb469d-c57f-43c7-8dd8-4cb6051ae243",
   "metadata": {
    "tags": []
   },
   "source": [
    "### Fixed Effects"
   ]
  },
  {
   "cell_type": "code",
   "execution_count": 36,
   "id": "9a4a7a06-8578-41a6-9ceb-54f2310e866f",
   "metadata": {},
   "outputs": [
    {
     "name": "stdout",
     "output_type": "stream",
     "text": [
      "                          PanelOLS Estimation Summary                           \n",
      "================================================================================\n",
      "Dep. Variable:                  lwage   R-squared:                        0.1780\n",
      "Estimator:                   PanelOLS   R-squared (Between):              0.5496\n",
      "No. Observations:                4360   R-squared (Within):               0.1780\n",
      "Date:                Sun, Jul 09 2023   R-squared (Overall):              0.5333\n",
      "Time:                        20:18:59   Log-likelihood                   -1331.6\n",
      "Cov. Estimator:            Unadjusted                                           \n",
      "                                        F-statistic:                      206.38\n",
      "Entities:                         545   P-value                           0.0000\n",
      "Avg Obs:                       8.0000   Distribution:                  F(4,3811)\n",
      "Min Obs:                       8.0000                                           \n",
      "Max Obs:                       8.0000   F-statistic (robust):             206.38\n",
      "                                        P-value                           0.0000\n",
      "Time periods:                       8   Distribution:                  F(4,3811)\n",
      "Avg Obs:                       545.00                                           \n",
      "Min Obs:                       545.00                                           \n",
      "Max Obs:                       545.00                                           \n",
      "                                                                                \n",
      "                             Parameter Estimates                              \n",
      "==============================================================================\n",
      "            Parameter  Std. Err.     T-stat    P-value    Lower CI    Upper CI\n",
      "------------------------------------------------------------------------------\n",
      "exper          0.1168     0.0084     13.878     0.0000      0.1003      0.1334\n",
      "expersq       -0.0043     0.0006    -7.1057     0.0000     -0.0055     -0.0031\n",
      "married        0.0453     0.0183     2.4743     0.0134      0.0094      0.0812\n",
      "union          0.0821     0.0193     4.2553     0.0000      0.0443      0.1199\n",
      "==============================================================================\n",
      "\n",
      "F-test for Poolability: 9.7128\n",
      "P-value: 0.0000\n",
      "Distribution: F(544,3811)\n",
      "\n",
      "Included effects: Entity\n"
     ]
    }
   ],
   "source": [
    "from linearmodels.panel import PanelOLS\n",
    "\n",
    "mod = PanelOLS(data.lwage, exog_notic, entity_effects=True)\n",
    "fe_res = mod.fit()\n",
    "print(fe_res)"
   ]
  },
  {
   "cell_type": "markdown",
   "id": "c7237ea9-651b-42e7-93d6-c26104e6e893",
   "metadata": {
    "tags": []
   },
   "source": [
    "### Random Effects"
   ]
  },
  {
   "cell_type": "code",
   "execution_count": 47,
   "id": "a28e8809-b9cd-4dcc-87cb-1177d96b1846",
   "metadata": {},
   "outputs": [
    {
     "name": "stdout",
     "output_type": "stream",
     "text": [
      "                        RandomEffects Estimation Summary                        \n",
      "================================================================================\n",
      "Dep. Variable:                  lwage   R-squared:                        0.6153\n",
      "Estimator:              RandomEffects   R-squared (Between):              0.9056\n",
      "No. Observations:                4360   R-squared (Within):               0.0052\n",
      "Date:                Sun, Jul 09 2023   R-squared (Overall):              0.8663\n",
      "Time:                        20:32:54   Log-likelihood                   -2144.1\n",
      "Cov. Estimator:            Unadjusted                                           \n",
      "                                        F-statistic:                      1741.8\n",
      "Entities:                         545   P-value                           0.0000\n",
      "Avg Obs:                       8.0000   Distribution:                  F(4,4356)\n",
      "Min Obs:                       8.0000                                           \n",
      "Max Obs:                       8.0000   F-statistic (robust):             1741.8\n",
      "                                        P-value                           0.0000\n",
      "Time periods:                       8   Distribution:                  F(4,4356)\n",
      "Avg Obs:                       545.00                                           \n",
      "Min Obs:                       545.00                                           \n",
      "Max Obs:                       545.00                                           \n",
      "                                                                                \n",
      "                             Parameter Estimates                              \n",
      "==============================================================================\n",
      "            Parameter  Std. Err.     T-stat    P-value    Lower CI    Upper CI\n",
      "------------------------------------------------------------------------------\n",
      "exper          0.3347     0.0060     55.618     0.0000      0.3229      0.3465\n",
      "expersq       -0.0183     0.0005    -36.796     0.0000     -0.0192     -0.0173\n",
      "married        0.0401     0.0191     2.0926     0.0364      0.0025      0.0776\n",
      "union          0.1834     0.0202     9.0790     0.0000      0.1438      0.2230\n",
      "==============================================================================\n"
     ]
    }
   ],
   "source": [
    "from linearmodels.panel import RandomEffects\n",
    "\n",
    "mod = RandomEffects(data.lwage, exog_notic)\n",
    "re_res = mod.fit()\n",
    "print(re_res)"
   ]
  },
  {
   "cell_type": "markdown",
   "id": "1851492d-a3a6-42b3-9c45-628b85882701",
   "metadata": {},
   "source": [
    "## Comparison"
   ]
  },
  {
   "cell_type": "code",
   "execution_count": 48,
   "id": "c3673852-03fe-4894-8306-d19f6f57e867",
   "metadata": {},
   "outputs": [
    {
     "name": "stdout",
     "output_type": "stream",
     "text": [
      "                                       Model Comparison                                       \n",
      "==============================================================================================\n",
      "                                Pooled                     FD             FE                RE\n",
      "----------------------------------------------------------------------------------------------\n",
      "Dep. Variable                    lwage                  lwage          lwage             lwage\n",
      "Estimator                    PooledOLS     FirstDifferenceOLS       PanelOLS     RandomEffects\n",
      "No. Observations                  4360                   3815           4360              4360\n",
      "Cov. Est.                   Unadjusted             Unadjusted     Unadjusted        Unadjusted\n",
      "R-squared                       0.1866                 0.0268         0.1780            0.6153\n",
      "R-Squared (Within)              0.1679                 0.1763         0.1780            0.0052\n",
      "R-Squared (Between)             0.2027                 0.5491         0.5496            0.9056\n",
      "R-Squared (Overall)             0.1866                 0.5328         0.5333            0.8663\n",
      "F-statistic                     142.61                 26.208         206.38            1741.8\n",
      "P-value (F-stat)                0.0000                 0.0000         0.0000            0.0000\n",
      "=====================     ============   ====================   ============   ===============\n",
      "const                          -0.0347                                                        \n",
      "                              (0.0646)                                                        \n",
      "black                       -0.1438***                                                        \n",
      "                              (0.0236)                                                        \n",
      "hisp                            0.0157                                                        \n",
      "                              (0.0208)                                                        \n",
      "exper                        0.0892***              0.1158***      0.1168***         0.3347***\n",
      "                              (0.0101)               (0.0196)       (0.0084)          (0.0060)\n",
      "expersq                     -0.0028***             -0.0039***     -0.0043***        -0.0183***\n",
      "                              (0.0007)               (0.0014)       (0.0006)          (0.0005)\n",
      "married                      0.1077***                0.0381*       0.0453**          0.0401**\n",
      "                              (0.0157)               (0.0229)       (0.0183)          (0.0191)\n",
      "educ                         0.0994***                                                        \n",
      "                              (0.0047)                                                        \n",
      "union                        0.1801***               0.0428**      0.0821***         0.1834***\n",
      "                              (0.0171)               (0.0197)       (0.0193)          (0.0202)\n",
      "======================= ============== ====================== ============== =================\n",
      "Effects                                                               Entity                  \n",
      "----------------------------------------------------------------------------------------------\n",
      "\n",
      "Std. Errors reported in parentheses\n"
     ]
    }
   ],
   "source": [
    "from linearmodels.panel import compare\n",
    "\n",
    "print(compare({\"Pooled\": pooled_res, \"FD\": fd_res,\"FE\": fe_res, \"RE\": re_res}, \n",
    "              precision='std_errors',\n",
    "              stars=True))"
   ]
  },
  {
   "cell_type": "markdown",
   "id": "609418eb-806e-46a9-9b66-2999002dcaa0",
   "metadata": {},
   "source": [
    "## Hypothesis tests\n",
    "\n",
    "* [x] Breusch-Pagan\n",
    "* [x] Durbin-Whatson\n",
    "* [ ] Hausmann\n",
    "* [ ] Breusch-Godfrey\n"
   ]
  },
  {
   "cell_type": "markdown",
   "id": "95724687-e08c-43c1-8825-609358825880",
   "metadata": {},
   "source": [
    "### Pooled Regression or Random Effects?\n",
    "Breusch-Pagan LM test.  \n",
    "Null hypothesis: Pooled Regression"
   ]
  },
  {
   "cell_type": "code",
   "execution_count": 49,
   "id": "0d78b848-5624-4913-9aad-57a551ab9545",
   "metadata": {},
   "outputs": [
    {
     "name": "stdout",
     "output_type": "stream",
     "text": [
      "p-value = 0.0029816234472134885\n"
     ]
    }
   ],
   "source": [
    "from statsmodels.stats.api import het_breuschpagan\n",
    "_, p, _, _ = het_breuschpagan(pooled_res.resids, exog)\n",
    "print(f'p-value = {p}')"
   ]
  },
  {
   "cell_type": "markdown",
   "id": "301a48cc-566d-4803-92d8-983e0f439d8e",
   "metadata": {},
   "source": [
    "### Fixed Effects or First Difference?\n",
    "\n",
    "Durbin-Whatson test or Breusch-Godgrey test.\n",
    "\n",
    "__Durbin-Whatson__ should be ~ 2 for Fixed Effects.  \n",
    "As a rule of thumb, we say anything between 1.5 and 2.5 is close enough to 2 for us to choose a Fixed Effects model.\n",
    "\n",
    "__Breusch-Godfrey__ has null hypothesis that model is Fixed Effects and alternative hypotehsis that model is First Difference. \n",
    "\n",
    "The Durbin-Whatson statistic evaluates if residuals follow an $AR(1)$ process.  \n",
    "The Breusch-Godfrey test tests if residuals follow an $AR(p)$ process with $p \\geq 1$\n",
    "\n",
    "Let's focus on Durbin-Whatson:"
   ]
  },
  {
   "cell_type": "code",
   "execution_count": 50,
   "id": "79226116-0d77-49a6-9831-15927697cb67",
   "metadata": {},
   "outputs": [
    {
     "data": {
      "text/plain": [
       "1.9201421214822525"
      ]
     },
     "execution_count": 50,
     "metadata": {},
     "output_type": "execute_result"
    }
   ],
   "source": [
    "from statsmodels.stats.stattools import durbin_watson\n",
    "durbin_watson(fe_res.resids)"
   ]
  },
  {
   "cell_type": "markdown",
   "id": "a7288a44-c69c-459e-9268-a5b6176fde4e",
   "metadata": {},
   "source": [
    "### Fixed Effects or Random Effects?\n",
    "\n",
    "Hausman test.  \n",
    "$H_0$: Random Effetcs  \n",
    "$H_a$: Fixed Effects  "
   ]
  },
  {
   "cell_type": "code",
   "execution_count": 51,
   "id": "b0b60ae2-cf13-41bd-beab-2cd43158b30a",
   "metadata": {},
   "outputs": [],
   "source": [
    "def hausman(fe, re):\n",
    "    \n",
    "    import numpy as np\n",
    "    import numpy.linalg as la\n",
    "    import scipy.stats as stats\n",
    "    \n",
    "    #Get coefficients\n",
    "    b = fe.params\n",
    "    B = re.params\n",
    "    \n",
    "    #Get covariance matrices\n",
    "    v_b = fe.cov\n",
    "    v_B = re.cov\n",
    "    \n",
    "    #Calculate chi2 stats and p-value\n",
    "    df = b[np.abs(b) < 1e8].size\n",
    "    chi2 = np.dot((b - B).T, la.inv(v_b - v_B).dot(b - B)) \n",
    "    pval = stats.chi2.sf(chi2, df)\n",
    "    \n",
    "    return chi2, df, pval"
   ]
  },
  {
   "cell_type": "code",
   "execution_count": 58,
   "id": "0443557c-c4ef-4dcf-b07a-75f881cbce76",
   "metadata": {},
   "outputs": [
    {
     "name": "stdout",
     "output_type": "stream",
     "text": [
      "Hausman test statistic: 1239.3170732172548\n",
      "Degrees of feedom: 4\n",
      "p-value: 4.77056282667815e-267\n"
     ]
    }
   ],
   "source": [
    "chi2,df, p = hausman(fe_res, re_res)\n",
    "print(f\"Hausman test statistic: {chi2}\")\n",
    "print(f\"Degrees of feedom: {df}\")\n",
    "print(f\"p-value: {p}\")"
   ]
  },
  {
   "cell_type": "markdown",
   "id": "0d3c49ab-4623-4f95-add6-4d72ce94b693",
   "metadata": {},
   "source": [
    "## Bonus: Auto Panel Data Regression\n",
    "\n",
    "*Not thoroughly tested. Use with caution!!!*"
   ]
  },
  {
   "cell_type": "code",
   "execution_count": 74,
   "id": "26356074-c668-4ac4-9855-74966a15d5a0",
   "metadata": {},
   "outputs": [],
   "source": [
    "def autoPDR(y, X, alpha = 0.05):\n",
    "    pooled = PooledOLS(y, X).fit()\n",
    "    _, p, _, _ = het_breuschpagan(pooled.resids, X)\n",
    "    \n",
    "    if p >= alpha:\n",
    "        print(\"Use pooled regression\")\n",
    "        print(pooled)\n",
    "        return(1)\n",
    "    else:\n",
    "        del(pooled)\n",
    "        del(p)\n",
    "    \n",
    "    re = RandomEffects(y, X).fit()\n",
    "    fe = PanelOLS(y, X, entity_effects=True).fit()\n",
    "    \n",
    "    chi2,df, p = hausman(fe_res, re_res)\n",
    "    \n",
    "    if p >= alpha:\n",
    "        print(\"Use Random Effects\")\n",
    "        print(re)\n",
    "        return(1)\n",
    "    else:\n",
    "        del(re)\n",
    "        del(p)\n",
    "    \n",
    "    DW = durbin_watson(fe.resids)\n",
    "    \n",
    "    if abs(DW - 2) <= 0.5:\n",
    "        print(\"Use Fixed Effects\")\n",
    "        print(fe)\n",
    "        return(1)\n",
    "    else:\n",
    "        del(fe)\n",
    "        del(p)\n",
    "    \n",
    "    fd = FirstDifferenceOLS(y,X).fit()\n",
    "    print(\"Try a First Differences model\")\n",
    "    print(fd)"
   ]
  },
  {
   "cell_type": "code",
   "execution_count": 73,
   "id": "a2513023-eac5-482e-8521-2dc941dcc190",
   "metadata": {},
   "outputs": [
    {
     "name": "stdout",
     "output_type": "stream",
     "text": [
      "Use Fixed Effects\n",
      "                          PanelOLS Estimation Summary                           \n",
      "================================================================================\n",
      "Dep. Variable:                  lwage   R-squared:                        0.1780\n",
      "Estimator:                   PanelOLS   R-squared (Between):              0.5496\n",
      "No. Observations:                4360   R-squared (Within):               0.1780\n",
      "Date:                Sun, Jul 09 2023   R-squared (Overall):              0.5333\n",
      "Time:                        20:58:32   Log-likelihood                   -1331.6\n",
      "Cov. Estimator:            Unadjusted                                           \n",
      "                                        F-statistic:                      206.38\n",
      "Entities:                         545   P-value                           0.0000\n",
      "Avg Obs:                       8.0000   Distribution:                  F(4,3811)\n",
      "Min Obs:                       8.0000                                           \n",
      "Max Obs:                       8.0000   F-statistic (robust):             206.38\n",
      "                                        P-value                           0.0000\n",
      "Time periods:                       8   Distribution:                  F(4,3811)\n",
      "Avg Obs:                       545.00                                           \n",
      "Min Obs:                       545.00                                           \n",
      "Max Obs:                       545.00                                           \n",
      "                                                                                \n",
      "                             Parameter Estimates                              \n",
      "==============================================================================\n",
      "            Parameter  Std. Err.     T-stat    P-value    Lower CI    Upper CI\n",
      "------------------------------------------------------------------------------\n",
      "exper          0.1168     0.0084     13.878     0.0000      0.1003      0.1334\n",
      "expersq       -0.0043     0.0006    -7.1057     0.0000     -0.0055     -0.0031\n",
      "married        0.0453     0.0183     2.4743     0.0134      0.0094      0.0812\n",
      "union          0.0821     0.0193     4.2553     0.0000      0.0443      0.1199\n",
      "==============================================================================\n",
      "\n",
      "F-test for Poolability: 9.7128\n",
      "P-value: 0.0000\n",
      "Distribution: F(544,3811)\n",
      "\n",
      "Included effects: Entity\n"
     ]
    },
    {
     "data": {
      "text/plain": [
       "1"
      ]
     },
     "execution_count": 73,
     "metadata": {},
     "output_type": "execute_result"
    }
   ],
   "source": [
    "pdr = autoPDR(data.lwage, exog_notic)\n",
    "pdr"
   ]
  },
  {
   "cell_type": "code",
   "execution_count": null,
   "id": "aff1d9f0-3d82-4b4b-8b2a-75c156f7a5a7",
   "metadata": {},
   "outputs": [],
   "source": []
  }
 ],
 "metadata": {
  "kernelspec": {
   "display_name": "Python 3 (ipykernel)",
   "language": "python",
   "name": "python3"
  },
  "language_info": {
   "codemirror_mode": {
    "name": "ipython",
    "version": 3
   },
   "file_extension": ".py",
   "mimetype": "text/x-python",
   "name": "python",
   "nbconvert_exporter": "python",
   "pygments_lexer": "ipython3",
   "version": "3.9.13"
  }
 },
 "nbformat": 4,
 "nbformat_minor": 5
}
