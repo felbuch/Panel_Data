{
 "cells": [
  {
   "cell_type": "markdown",
   "id": "a70d7139-2160-4622-9a83-c0d90c2e1664",
   "metadata": {},
   "source": [
    "# Lab 1\n",
    "\n",
    "soundtrack [here](https://www.youtube.com/watch?v=uSiHqxgE2d0)\n",
    "\n",
    "## Drinking and driving\n",
    "\n",
    "R package AER has a dataset called Fatalities. You can read about it [here](https://rdrr.io/cran/AER/man/Fatalities.html).\n",
    "\n",
    "We wish to investigate the relationship between beer tax and traffic fatalities. Our hypothesis is that an increase in beer tax is associated with a decrease in traffic fatalities.\n",
    "\n",
    "Load the dataset.\n",
    "\n",
    "### (a) Identifying Panel Data\n",
    "\n",
    "Argue that the dataset is panel data (and not cross-sectional, time series or pooled data).  \n",
    "Is it a balanced panel data or an unbalanced panel data?  \n",
    "How many entities do we have, and how many time periods per observation?\n",
    "\n",
    "### (b) Malleficent is here!\n",
    "\n",
    "Lets consider years 1982 and 1988.  \n",
    "For each year, estimate a simple regression that models the relationship between beer tax (adjusted for 1988 dollars) and the traffic fatality rate, measured as the number of fatalities per 10000 inhabitants.  \n",
    "Make a table with the results for each regression side by side and compare their coefficients.  \n",
    "\n",
    "### (c) Interpret\n",
    "Do these coefficients make sense?  \n",
    "If not, why do you think this evil curse is befalling upon our heads?\n",
    "\n",
    "### (d) A jump in the pool\n",
    "\n",
    "Run a __Pooled Regression__ to predict Fatalities in terms of beer tax and any other covariate you deem relevant.  Do the usual checks for validity of a regression model's assumptions: normality, homoskedasticity etc. Then, discuss if results make sense.\n",
    "\n",
    "### (e) In the pool with dummies\n",
    "\n",
    "Add state dummies to your previous pooled regression. \n",
    "\n",
    "* Are these dummies statistically significant? \n",
    "* What does this tell you about the appropriateness of using a pooled regression to tackle this problem?\n",
    "* How does this relate to your findings in item (c)?\n",
    "\n",
    "### (f) Breusch-Pagan LM\n",
    "\n",
    "Adding dummies to a pooled regression is one way of testing its adequacy. Another is using a Breusch-Pagan Lagrange Multipliers test. \n",
    "\n",
    "Run a Breusch-Pagan Lagrange Multipliers test to verify whether a Pooled Regression is adequate in this case. Does the test suggest you should stick with a Pooled Regression or try some other model? (if so, which?)\n",
    "\n"
   ]
  },
  {
   "cell_type": "code",
   "execution_count": null,
   "id": "877f218f-090b-48e3-9d9a-92acd8c1f915",
   "metadata": {},
   "outputs": [],
   "source": []
  }
 ],
 "metadata": {
  "kernelspec": {
   "display_name": "Python 3 (ipykernel)",
   "language": "python",
   "name": "python3"
  },
  "language_info": {
   "codemirror_mode": {
    "name": "ipython",
    "version": 3
   },
   "file_extension": ".py",
   "mimetype": "text/x-python",
   "name": "python",
   "nbconvert_exporter": "python",
   "pygments_lexer": "ipython3",
   "version": "3.8.5"
  }
 },
 "nbformat": 4,
 "nbformat_minor": 5
}
